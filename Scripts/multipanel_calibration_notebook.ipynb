{
 "metadata": {
  "kernelspec": {
   "display_name": "Python 3.7 local venv",
   "language": "python",
   "name": "python3.7"
  },
  "language_info": {
   "codemirror_mode": {
    "name": "ipython",
    "version": 3
   },
   "file_extension": ".py",
   "mimetype": "text/x-python",
   "name": "python",
   "nbconvert_exporter": "python",
   "pygments_lexer": "ipython3",
   "version": "3.7.2"
  },
  "name": "",
  "signature": "sha256:76db76f70d7ca56c4e01d41890280907e36ce215069b212d90f8786ce71939df"
 },
 "nbformat": 3,
 "nbformat_minor": 0,
 "worksheets": [
  {
   "cells": [
    {
     "cell_type": "code",
     "collapsed": false,
     "input": [
      "%pylab nbagg\n",
      "\n",
      "import pyFAI\n",
      "print(\"Using pyFAI version\", pyFAI.version)\n",
      "\n",
      "#Loading few libraries\n",
      "import os\n",
      "import random\n",
      "import fabio\n",
      "from pyFAI.goniometer import GeometryTransformation, GoniometerRefinement, Goniometer\n",
      "from pyFAI.gui import jupyter"
     ],
     "language": "python",
     "metadata": {},
     "outputs": []
    },
    {
     "cell_type": "code",
     "collapsed": false,
     "input": [
      "#loading of the list of files, and display of the last one with its headers\n",
      "\n",
      "im_dir = '/data/id06/inhouse/2019/MKutsal/ID11_HEA_x10_data/HEA_x10_eta_all/' #image directory\n",
      "\n",
      "all_files = []\n",
      "\n",
      "for f in os.listdir(im_dir):\n",
      "    if f.endswith('.edf'):\n",
      "        all_files.append(im_dir + f);\n",
      "\n",
      "print('Number of loaded images: '+str(len(all_files)))\n",
      "\n",
      "\n",
      "image_files = [i for i in all_files if i.endswith(\".edf\")] #please change the file format accordingly...\n",
      "image_files.sort()"
     ],
     "language": "python",
     "metadata": {},
     "outputs": []
    },
    {
     "cell_type": "code",
     "collapsed": false,
     "input": [
      "#Definition of the position function\n",
      "#works if images has header infor. Please change the motor names accordingly...\n",
      "\n",
      "def get_pos(header):\n",
      "    #print(\"get_pos: \", img_basename)\n",
      "    #for_header = fabio.open(img_basename);\n",
      "    #header = for_header.header;\n",
      "    motor_mne = header[\"motor_mne\"].split(\" \");\n",
      "    motor_pos = header[\"motor_pos\"].split(\" \");\n",
      "    a = dict(zip(motor_mne, motor_pos));\n",
      "    d2ty = float(a.get(\"d2ty\"));\n",
      "    d2tz = float(a.get(\"d2tz\"));    \n",
      "    return d2ty , d2tz\n",
      "\n",
      "#Small test\n",
      "fimg = fabio.open(image_files[0])\n",
      "print(str(get_pos(fimg.header)),str(image_files[0]))"
     ],
     "language": "python",
     "metadata": {},
     "outputs": []
    },
    {
     "cell_type": "code",
     "collapsed": false,
     "input": [
      "#Definition of the detector and the calibrant\n",
      "\n",
      "frelon = pyFAI.detector_factory(\"frelon77.h5\")\n",
      "print(frelon)\n",
      "\n",
      "#If calibrant information is not available, please define\n",
      "#the utilized calibrant below...\n",
      "\n",
      "k = [2.067, 2.029, 1.79, 1.45, 1.266, 1.172, 1.079, 1.033, 1.015, 0.908]\n",
      "wavelength = 0.35424e-10\n",
      "calib = pyFAI.calibrant.Calibrant(\"calib.d\", k, wavelength)\n",
      "print(calib)\n",
      "print(\"Calibrant loaded: \", calib.filename)\n",
      "print(\"d-spacings: \" + str(calib.dSpacing))\n",
      "print(\"Wavelength to be used: \" + str(calib.wavelength))\n"
     ],
     "language": "python",
     "metadata": {},
     "outputs": []
    },
    {
     "cell_type": "code",
     "collapsed": false,
     "input": [
      "#Definition of the goniometer translation function:\n",
      "#The detector moves in y and z axes, (presumably) with no rotation\n",
      "#The model for the detector motion should be given here!..\n",
      "\n",
      "goniotrans = GeometryTransformation(param_names = [\"dist\", \"poni1_scale\", \"posY_offset\", \n",
      "                                                   \"poni2_scale\", \"posZ_offset\", \"rot1\", \"rot2\"],\n",
      "                                    pos_names = [\"posY\", \"posZ\"],\n",
      "                                    dist_expr=\"dist*1e-3\", # dist is now in mm \n",
      "                                    poni1_expr=\"poni1_scale * (posZ - posZ_offset)\", \n",
      "                                    poni2_expr=\"-poni2_scale * (posY - posY_offset)\", \n",
      "                                    rot1_expr=\"rot1\", \n",
      "                                    rot2_expr=\"rot2\", \n",
      "                                    rot3_expr=\"0.0\")\n",
      "\n",
      "#Definition of the geometry refinement: the parameter order is the same as the param_names\n",
      "param = {\"dist\":5.2443, # in meter\n",
      "         \"poni1_scale\": 0.001, # poni1 is in meters, while the motor position is in millimeters. Also, we don't know the scaling so setting it to 1 mm.\n",
      "         \"posZ_offset\": 11.67, \n",
      "         \"poni2_scale\": 0.001, # poni2 is in meters, while the motor position is in millimeters. Also, we don't know the scaling so setting it to 1 mm.\n",
      "         \"posY_offset\": 347, \n",
      "         \"rot1\":0,\n",
      "         \"rot2\":0,\n",
      "          }\n",
      "#Defines the bounds for some variables\n",
      "bounds = {\"dist\": (5., 5.5),\n",
      "           \"poni1_scale\": (0.0009,0.0011),\n",
      "           \"poni2_scale\": (0.0009,0.0011), \n",
      "           \"rot1\": (-0.1,0.1),\n",
      "           \"rot2\": (-0.1,0.1),\n",
      "         }\n",
      "gonioref = GoniometerRefinement(param, #initial guess\n",
      "                                pos_function=get_pos,\n",
      "                                trans_function=goniotrans,\n",
      "                                bounds=bounds,\n",
      "                                detector=frelon, wavelength=wavelength)\n",
      "\n",
      "\n",
      "print(\"Empty refinement object:\")\n",
      "print(gonioref)"
     ],
     "language": "python",
     "metadata": {},
     "outputs": []
    },
    {
     "cell_type": "code",
     "collapsed": false,
     "input": [
      "#Getting first 5 images from all four panels (eta positions) for initial refinement\n",
      "import glob\n",
      "images_eta_all_5 = glob.glob(\"maxi*.edf\")\n",
      "images_eta_all_5.sort()\n",
      "\n",
      "print(images_eta_all_5)\n",
      "\n",
      "print(\"Initial calibration commencement\")\n",
      "print(\"Number of images loaded: \",len(images_eta_all_5))"
     ],
     "language": "python",
     "metadata": {},
     "outputs": []
    },
    {
     "cell_type": "code",
     "collapsed": false,
     "input": [
      "#Let's populate the goniometer refinement object with all control point files:\n",
      "\n",
      "for image in images_eta_all_5:\n",
      "    fimg = fabio.open(image)\n",
      "    masked = fimg\n",
      "    basename = os.path.splitext(fimg.filename)[0]\n",
      "    basename, which_eta = basename.split('_')\n",
      "    print(basename, which_eta)\n",
      "    \n",
      "    print(image)\n",
      "    \n",
      "    sg =gonioref.new_geometry(which_eta, image=masked.data, metadata=fimg.header, control_points=which_eta+\".npt\", \n",
      "                              geometry=which_eta+\".poni\", calibrant=calib)\n",
      "    sg.control_points.calibrant = calib\n",
      "    sg.geometry_refinement.wavelength = wavelength\n",
      "    print(sg.label,\" Detector Position: \",sg.get_position())\n",
      "    print(sg.geometry_refinement)\n",
      "    print()\n",
      "\n",
      "\n",
      "print(\"Filled refinement object:\")\n",
      "print(gonioref)"
     ],
     "language": "python",
     "metadata": {},
     "outputs": []
    },
    {
     "cell_type": "code",
     "collapsed": false,
     "input": [
      "print(gonioref)"
     ],
     "language": "python",
     "metadata": {},
     "outputs": []
    },
    {
     "cell_type": "code",
     "collapsed": false,
     "input": [
      "gonioref.refine2()"
     ],
     "language": "python",
     "metadata": {},
     "outputs": []
    },
    {
     "cell_type": "code",
     "collapsed": false,
     "input": [
      "def print_geo(key):\n",
      "    print(\"expected\")\n",
      "    print(gonioref.single_geometries[key].geometry_refinement)\n",
      "    print(\"refined\")\n",
      "    print(gonioref.get_ai(gonioref.single_geometries[key].get_position()))"
     ],
     "language": "python",
     "metadata": {},
     "outputs": []
    },
    {
     "cell_type": "code",
     "collapsed": false,
     "input": [
      "gonioref.save(\"geometry.json\")"
     ],
     "language": "python",
     "metadata": {},
     "outputs": []
    },
    {
     "cell_type": "code",
     "collapsed": false,
     "input": [
      "#gonioref.get_ai(\n",
      "print(gonioref.single_geometries[\"eta1\"].get_position())\n",
      "\n",
      "print(gonioref.single_geometries[\"eta4\"].get_position())\n",
      "    #)"
     ],
     "language": "python",
     "metadata": {},
     "outputs": []
    }
   ],
   "metadata": {}
  }
 ]
}